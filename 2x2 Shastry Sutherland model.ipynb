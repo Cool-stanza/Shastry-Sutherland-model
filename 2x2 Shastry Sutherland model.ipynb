{
 "cells": [
  {
   "cell_type": "code",
   "execution_count": 1,
   "id": "8df3d716-46da-439d-ab06-8d012ddabd4b",
   "metadata": {},
   "outputs": [
    {
     "name": "stderr",
     "output_type": "stream",
     "text": [
      "/usr/lib/python3/dist-packages/scipy/__init__.py:146: UserWarning: A NumPy version >=1.17.3 and <1.25.0 is required for this version of SciPy (detected version 1.26.4\n",
      "  warnings.warn(f\"A NumPy version >={np_minversion} and <{np_maxversion}\"\n"
     ]
    }
   ],
   "source": [
    "import numpy as np\n",
    "import matplotlib.pyplot as plt\n",
    "from matplotlib import ft2font\n",
    "from matplotlib.cm import get_cmap\n",
    "from matplotlib.colors import LinearSegmentedColormap\n",
    "import itertools\n",
    "from itertools import zip_longest\n",
    "from scipy.sparse import lil_matrix, csr_matrix\n",
    "from scipy.sparse import dok_matrix\n",
    "from scipy.sparse import block_diag\n",
    "from scipy.sparse.linalg import eigsh\n",
    "import scipy.linalg as la\n",
    "import os\n",
    "import Hamiltonian_definition as HD"
   ]
  },
  {
   "cell_type": "code",
   "execution_count": 9,
   "id": "c699fcb0-3e54-451f-8a36-20d19ca770c1",
   "metadata": {},
   "outputs": [],
   "source": [
    "Lx,Ly = 2,2 # lattice dim\n",
    "L=Lx*Ly\n",
    "dim = 2**(Lx*Ly)\n",
    "J1,J2 = 1.0,0.0\n"
   ]
  },
  {
   "cell_type": "markdown",
   "id": "8f2bdfa6-b677-4372-90ca-16fa1aa9b266",
   "metadata": {},
   "source": [
    "### Lattice definition"
   ]
  },
  {
   "cell_type": "code",
   "execution_count": 10,
   "id": "951bff92-4f8c-4dee-a264-fa7f392666df",
   "metadata": {},
   "outputs": [
    {
     "data": {
      "image/png": "[encoded data removed]",
      "text/plain": [
       "<Figure size 300x300 with 1 Axes>"
      ]
     },
     "metadata": {},
     "output_type": "display_data"
    },
    {
     "name": "stdout",
     "output_type": "stream",
     "text": [
      "0 --> Nearest neighbors: [2, 1]  -- Next neighbor: [3]\n",
      "1 --> Nearest neighbors: [3, 0]  -- Next neighbor: [2]\n",
      "2 --> Nearest neighbors: [0, 3]  -- Next neighbor: [1]\n",
      "3 --> Nearest neighbors: [1, 2]  -- Next neighbor: [0]\n"
     ]
    }
   ],
   "source": [
    "coor = HD.generate_lattice(Lx,Ly)\n",
    "neighbors_indices = HD.index_nn(coor,Lx,Ly)\n",
    "diag_indices = HD.index_nnn(coor,Lx,Ly)\n",
    "\n",
    "HD.plot_lattice(coor,neighbors_indices,diag_indices)"
   ]
  },
  {
   "cell_type": "markdown",
   "id": "b199e18d-96ea-44e4-9eb0-81f9d5a48980",
   "metadata": {},
   "source": [
    "### Hamiltonian definition"
   ]
  },
  {
   "cell_type": "code",
   "execution_count": 11,
   "id": "fdf3de1a-920a-406e-a180-fbbf7d55e888",
   "metadata": {},
   "outputs": [],
   "source": [
    "# HAMILTONIAN\n",
    "def flip(state,i,j): #flippa lo spin degli indici i e j\n",
    "    return state ^ (2**i + 2**j) # ^==xor\n",
    "\n",
    "def Hamiltonian(J1, J2, state):\n",
    "    result = []\n",
    "    seen_states_1 = set()  # Per evitare duplicati\n",
    "    seen_states_2 = set() \n",
    "    seen_states_d = set() \n",
    "    \n",
    "    coeff_nn = 0\n",
    "    coeff_nnn = 0\n",
    "    for i in range(Lx*Ly):\n",
    "        n = (state & 2**i)/2**i #extract bit at position i --> 0 or 1 --> poi (2n-1)/2 per avere -1/2, +1/2\n",
    "        # print(f\"* sito {i} --> spin={n}\")\n",
    "        \n",
    "        nn_x = neighbors_indices[i][0] #nn dx\n",
    "        nn_y = neighbors_indices[i][1] #nn up\n",
    "        nn_d = diag_indices[i][0] #nnn\n",
    "\n",
    "        nn_1 = (state & 2**nn_x)/2**nn_x\n",
    "        nn_2 = (state & 2**nn_y)/2**nn_y\n",
    "        coeff_nn += (2*n-1)*(2*nn_1-1)/8 + (2*n-1)*(2*nn_2-1)/8 # sarebbe (2*n-1)/2 * (2*nn-1)/2 \n",
    "        if n!=nn_1 : \n",
    "            new_state_1 = flip(state,i,nn_x)\n",
    "            if new_state_1 not in seen_states_1:\n",
    "                result.append([J1/2,new_state_1])\n",
    "                seen_states_1.add(new_state_1)\n",
    "        if n!=nn_2 : \n",
    "            new_state_2 = flip(state,i,nn_y)\n",
    "            if new_state_2 not in seen_states_2:\n",
    "                result.append([J1/2,new_state_2])\n",
    "                seen_states_2.add(new_state_2)\n",
    "        \n",
    "        nnn = (state & 2**nn_d)/2**nn_d\n",
    "        # print(f\"sito diagonale vicino {nn_d} --> spin={nnn}\")\n",
    "        coeff_nnn += (2*n-1)*(2*nnn-1)/8 #1/2 in più perchè i vicini in diagonale li sto contando due volte\n",
    "        if n!=nnn : \n",
    "            new_state_d = flip(state,i,nn_d)\n",
    "            if new_state_d not in seen_states_d:\n",
    "                result.append([J2/2,new_state_d])\n",
    "                seen_states_d.add(new_state_d)\n",
    "                # print(f\"stato iniziale {state}--> stato finale {new_state_d}\")\n",
    "\n",
    "    result.append([J1*coeff_nn+J2*coeff_nnn, state])\n",
    "    # print(result)\n",
    "    return result "
   ]
  },
  {
   "cell_type": "code",
   "execution_count": 12,
   "id": "399e7dab-f48d-4f8f-b212-a2228b98bb7a",
   "metadata": {},
   "outputs": [],
   "source": [
    "#MATRICE DIAGONALE A BLOCCHI\n",
    "L=Lx*Ly\n",
    "def build_basisN(L,N): #L=Lx*Ly number of sites, N number of spin up in the sector\n",
    "    basisN = []\n",
    "    for n in range(2**L):\n",
    "        particle_count = bin(n).count('1') #count the 1 in n\n",
    "        if particle_count == N:\n",
    "            basisN.append(n) #check if n belongs to the N sector\n",
    "    return basisN\n",
    "\n",
    "\n",
    "def build_HN(L,N,J1,J2):\n",
    "    basisN = build_basisN(L,N)\n",
    "    dimN = len(basisN) #dimension of the subspace S_N\n",
    "    HN = dok_matrix((dimN,dimN)) #crea matrice vuota sparsa\n",
    "\n",
    "    for b,n in enumerate(basisN): #b index, n binary state\n",
    "        # print(\"--------------------------\")\n",
    "        # print(f\"stato {n}\")\n",
    "        output = Hamiltonian(J1,J2,n) #H|n>\n",
    "        for coeff,m in output:\n",
    "            try:\n",
    "                a = basisN.index(m)\n",
    "                HN[a,b]+=coeff\n",
    "            except ValueError:\n",
    "                continue\n",
    "    return HN.tocsr() #csr\n",
    "\n",
    "\n",
    "def H_diag_block(L,J1,J2):\n",
    "    blocks = []\n",
    "    for N in range(L+1):\n",
    "        basisN = build_basisN(L,N)\n",
    "        if len(basisN) > 0:\n",
    "            HN = build_HN(L,N,J1,J2)\n",
    "            blocks.append(HN)\n",
    "    H = block_diag(blocks, format=\"csr\")\n",
    "    return H\n",
    "\n"
   ]
  },
  {
   "cell_type": "markdown",
   "id": "eee62934-8898-4e69-9296-7b869b3aea96",
   "metadata": {
    "jp-MarkdownHeadingCollapsed": true
   },
   "source": [
    "### sparse matrix and matrix (total)"
   ]
  },
  {
   "cell_type": "code",
   "execution_count": 6,
   "id": "0c41b9b6-016b-4702-a734-d01227d4bbef",
   "metadata": {},
   "outputs": [
    {
     "data": {
      "image/png": "[encoded data removed]",
      "text/plain": [
       "<Figure size 300x300 with 1 Axes>"
      ]
     },
     "metadata": {},
     "output_type": "display_data"
    }
   ],
   "source": [
    "#matrice sparsa\n",
    "\n",
    "row,col,data = [],[],[]\n",
    "for i in range(dim):\n",
    "    H = Hamiltonian(J1,J2,i)\n",
    "    for value,j in H:\n",
    "        row.append(i)      \n",
    "        col.append(j)      \n",
    "        data.append(value) #appende value in posizione (i,j) \n",
    "sparse_matrix = csr_matrix((data,(row,col)),shape=(dim,dim))\n",
    "#print(sparse_matrix.toarray())\n",
    "\n",
    "plt.figure(figsize=(3,3))\n",
    "plt.spy(sparse_matrix, markersize=0.5)\n",
    "plt.show()"
   ]
  },
  {
   "cell_type": "code",
   "execution_count": 7,
   "id": "41b073fb-5d14-4fb8-bd48-3f13d52665dd",
   "metadata": {},
   "outputs": [
    {
     "name": "stdout",
     "output_type": "stream",
     "text": [
      "[  0.5  0.0  0.0  0.0  0.0  0.0  0.0  0.0  0.0  0.0  0.0  0.0  0.0  0.0  0.0  0.0 ]\n",
      "[  0.0  0.0  0.0  0.0  0.0  0.0  0.0  0.0  0.5  0.0  0.0  0.0  0.0  0.0  0.0  0.0 ]\n",
      "[  0.0  0.0  0.0  0.0  0.5  0.0  0.0  0.0  0.0  0.0  0.0  0.0  0.0  0.0  0.0  0.0 ]\n",
      "[  0.0  0.0  0.0 -0.5  0.0  0.5  0.0  0.0  0.0  0.0  0.5  0.0  0.0  0.0  0.0  0.0 ]\n",
      "[  0.0  0.0  0.5  0.0  0.0  0.0  0.0  0.0  0.0  0.0  0.0  0.0  0.0  0.0  0.0  0.0 ]\n",
      "[  0.0  0.0  0.0  0.5  0.0 -0.5  0.0  0.0  0.0  0.0  0.0  0.0  0.5  0.0  0.0  0.0 ]\n",
      "[  0.0  0.0  0.0  0.0  0.0  0.0  0.5  0.0  0.0  0.0  0.0  0.0  0.0  0.0  0.0  0.0 ]\n",
      "[  0.0  0.0  0.0  0.0  0.0  0.0  0.0  0.0  0.0  0.0  0.0  0.0  0.0  0.0  0.5  0.0 ]\n",
      "[  0.0  0.5  0.0  0.0  0.0  0.0  0.0  0.0  0.0  0.0  0.0  0.0  0.0  0.0  0.0  0.0 ]\n",
      "[  0.0  0.0  0.0  0.0  0.0  0.0  0.0  0.0  0.0  0.5  0.0  0.0  0.0  0.0  0.0  0.0 ]\n",
      "[  0.0  0.0  0.0  0.5  0.0  0.0  0.0  0.0  0.0  0.0 -0.5  0.0  0.5  0.0  0.0  0.0 ]\n",
      "[  0.0  0.0  0.0  0.0  0.0  0.0  0.0  0.0  0.0  0.0  0.0  0.0  0.0  0.5  0.0  0.0 ]\n",
      "[  0.0  0.0  0.0  0.0  0.0  0.5  0.0  0.0  0.0  0.0  0.5  0.0 -0.5  0.0  0.0  0.0 ]\n",
      "[  0.0  0.0  0.0  0.0  0.0  0.0  0.0  0.0  0.0  0.0  0.0  0.5  0.0  0.0  0.0  0.0 ]\n",
      "[  0.0  0.0  0.0  0.0  0.0  0.0  0.0  0.5  0.0  0.0  0.0  0.0  0.0  0.0  0.0  0.0 ]\n",
      "[  0.0  0.0  0.0  0.0  0.0  0.0  0.0  0.0  0.0  0.0  0.0  0.0  0.0  0.0  0.0  0.5 ]\n"
     ]
    },
    {
     "data": {
      "image/png": "[encoded data removed]",
      "text/plain": [
       "<Figure size 640x480 with 2 Axes>"
      ]
     },
     "metadata": {},
     "output_type": "display_data"
    }
   ],
   "source": [
    "matrix = sparse_matrix.toarray() \n",
    "\n",
    "#TOTAL MATRIX\n",
    "total_matrix = np.array(matrix)\n",
    "np.save(\"matrix.npy\", matrix)\n",
    "for row in matrix:\n",
    "    print(\"[\", \" \".join(f\"{i:4}\" for i in row), \"]\")\n",
    "\n",
    "# Plot della matrice con la colormap\n",
    "plt.imshow(matrix, cmap='rainbow')\n",
    "plt.colorbar()  # Barra dei colori\n",
    "plt.show()"
   ]
  },
  {
   "cell_type": "markdown",
   "id": "c1ce36e4-72d7-40e9-a291-389d318044e5",
   "metadata": {
    "jp-MarkdownHeadingCollapsed": true
   },
   "source": [
    "### Sz matrix"
   ]
  },
  {
   "cell_type": "code",
   "execution_count": 8,
   "id": "5f17be60-6d2c-47d2-8d74-b7afacc80b53",
   "metadata": {},
   "outputs": [
    {
     "data": {
      "image/png": "[encoded data removed]",
      "text/plain": [
       "<Figure size 900x600 with 4 Axes>"
      ]
     },
     "metadata": {},
     "output_type": "display_data"
    },
    {
     "name": "stdout",
     "output_type": "stream",
     "text": [
      "[ -0.5  0.5  0.0  0.0  0.5  0.0 ]\n",
      "[  0.5 -0.5  0.0  0.0  0.0  0.5 ]\n",
      "[  0.0  0.0  0.5  0.0  0.0  0.0 ]\n",
      "[  0.0  0.0  0.0  0.5  0.0  0.0 ]\n",
      "[  0.5  0.0  0.0  0.0 -0.5  0.5 ]\n",
      "[  0.0  0.5  0.0  0.0  0.5 -0.5 ]\n"
     ]
    },
    {
     "data": {
      "image/png": "[encoded data removed]",
      "text/plain": [
       "<Figure size 300x300 with 2 Axes>"
      ]
     },
     "metadata": {},
     "output_type": "display_data"
    }
   ],
   "source": [
    "fig, axes = plt.subplots(1,4, figsize=(9, 6)) \n",
    "matrix_N = []\n",
    "for N, ax in enumerate(axes.flat[:Lx*Ly]):\n",
    "    HN = build_HN(L,N,J1,J2)\n",
    "    #print(HN.shape)\n",
    "    ax.spy(HN, markersize=1)\n",
    "    HN_matrix = HN.toarray()\n",
    "    matrix_N.append(HN_matrix)\n",
    "plt.show()\n",
    "\n",
    "\n",
    "for row in matrix_N[2]:\n",
    "    print(\"[\", \" \".join(f\"{i:4}\" for i in row), \"]\")\n",
    "        \n",
    "# Plot della matrice con la colormap\n",
    "fig, ax = plt.subplots(figsize=(3,3))  \n",
    "im = ax.imshow(matrix_N[2], cmap='rainbow')  \n",
    "cbar = fig.colorbar(im, ax=ax, fraction=0.046, pad=0.04)\n",
    "cbar.ax.tick_params(labelsize=10) \n",
    "plt.show()\n"
   ]
  },
  {
   "cell_type": "code",
   "execution_count": 10,
   "id": "e6153f72-0f12-4071-b918-268dcb7f8c31",
   "metadata": {},
   "outputs": [
    {
     "name": "stderr",
     "output_type": "stream",
     "text": [
      "/usr/lib/python3/dist-packages/scipy/sparse/linalg/_eigen/arpack/arpack.py:1592: RuntimeWarning: k >= N for N * N square matrix. Attempting to use scipy.linalg.eigh instead.\n",
      "  warnings.warn(\"k >= N for N * N square matrix. \"\n"
     ]
    },
    {
     "name": "stdout",
     "output_type": "stream",
     "text": [
      "-1.499999999999998\n"
     ]
    },
    {
     "data": {
      "image/png": "[encoded data removed]",
      "text/plain": [
       "<Figure size 640x480 with 1 Axes>"
      ]
     },
     "metadata": {},
     "output_type": "display_data"
    }
   ],
   "source": [
    "vals, vecs = eigsh(matrix_N[2], k=6, which='SA') #LM Largest Magnitude, SM Smallest Magnitud, LA Largest Algebric, SA Smallest Algebric\n",
    "plt.plot(vals, \"o\")\n",
    "print(vals[0])"
   ]
  },
  {
   "cell_type": "markdown",
   "id": "e9f04509-80a7-47fe-9409-abc5ffcc790d",
   "metadata": {},
   "source": [
    "### Sz=0"
   ]
  },
  {
   "cell_type": "code",
   "execution_count": 13,
   "id": "65adc948-dd34-4a2f-a183-3af15fdaff60",
   "metadata": {},
   "outputs": [
    {
     "name": "stdout",
     "output_type": "stream",
     "text": [
      "[  0.0  0.0  0.5  0.5  0.0  0.0 ]\n",
      "[  0.0  0.0  0.5  0.5  0.0  0.0 ]\n",
      "[  0.5  0.5 -1.0  0.0  0.5  0.5 ]\n",
      "[  0.5  0.5  0.0 -1.0  0.5  0.5 ]\n",
      "[  0.0  0.0  0.5  0.5  0.0  0.0 ]\n",
      "[  0.0  0.0  0.5  0.5  0.0  0.0 ]\n"
     ]
    },
    {
     "data": {
      "image/png": "[encoded data removed]",
      "text/plain": [
       "<Figure size 300x300 with 2 Axes>"
      ]
     },
     "metadata": {},
     "output_type": "display_data"
    }
   ],
   "source": [
    "N=2 #2 spin up\n",
    "HN = build_HN(L,N,J1,J2)\n",
    "HN_matrix = HN.toarray()\n",
    "\n",
    "for row in HN_matrix:\n",
    "    print(\"[\", \" \".join(f\"{i:4}\" for i in row), \"]\")\n",
    "        \n",
    "# Plot della matrice con la colormap\n",
    "fig, ax = plt.subplots(figsize=(3,3))  \n",
    "im = ax.imshow(HN_matrix, cmap='rainbow')  \n",
    "cbar = fig.colorbar(im, ax=ax, fraction=0.046, pad=0.04)\n",
    "cbar.ax.tick_params(labelsize=10) \n",
    "plt.show()"
   ]
  },
  {
   "cell_type": "code",
   "execution_count": 15,
   "id": "0e622e98-2641-4d6a-b84b-7b8baa4d6991",
   "metadata": {},
   "outputs": [
    {
     "name": "stdout",
     "output_type": "stream",
     "text": [
      "GS [ 0.28867513  0.28867513 -0.57735027 -0.57735027  0.28867513  0.28867513]\n",
      "autovalori [-2.00000000e+00 -1.00000000e+00  0.00000000e+00  2.22044605e-16\n",
      "  3.75932965e-16  1.00000000e+00]\n",
      "nearest neighbor correlation -0.1666666666666667\n",
      "next neighbor correlation 0.08333333333333337\n"
     ]
    },
    {
     "data": {
      "image/png": "[encoded data removed]",
      "text/plain": [
       "<Figure size 640x480 with 1 Axes>"
      ]
     },
     "metadata": {},
     "output_type": "display_data"
    }
   ],
   "source": [
    "eigvals, eigvecs = la.eigh(HN_matrix)\n",
    "plt.plot(eigvals, '.')\n",
    "print(\"GS\", eigvecs[:, 0])\n",
    "print(\"autovalori\", eigvals)\n",
    "\n",
    "psi1 = eigvecs[:,0]\n",
    "psi2 = eigvecs[:,0]\n",
    "\n",
    "N=2\n",
    "SzSz_nn_exval, SzSz_nnn_exval = HD.spin_corr(Lx,Ly,psi1,psi2,N,neighbors_indices,diag_indices)\n",
    "\n",
    "print(\"nearest neighbor correlation\", SzSz_nn_exval)\n",
    "print(\"next neighbor correlation\", SzSz_nnn_exval)\n"
   ]
  },
  {
   "cell_type": "markdown",
   "id": "d4563166-e64e-4d4c-8913-9c7f57f964ae",
   "metadata": {
    "jp-MarkdownHeadingCollapsed": true
   },
   "source": [
    "### matrice diagonale a blocchi"
   ]
  },
  {
   "cell_type": "code",
   "execution_count": 12,
   "id": "7c4d274f-2a7f-4210-9a69-cead693bf4b0",
   "metadata": {},
   "outputs": [
    {
     "name": "stdout",
     "output_type": "stream",
     "text": [
      "--------------------------\n",
      "stato 0\n",
      "* sito 0 --> spin=0.0\n",
      "sito diagonale vicino 3 --> spin=0.0\n",
      "* sito 1 --> spin=0.0\n",
      "sito diagonale vicino 2 --> spin=0.0\n",
      "* sito 2 --> spin=0.0\n",
      "sito diagonale vicino 1 --> spin=0.0\n",
      "* sito 3 --> spin=0.0\n",
      "sito diagonale vicino 0 --> spin=0.0\n",
      "[[1.0, 0]]\n",
      "--------------------------\n",
      "stato 1\n",
      "* sito 0 --> spin=1.0\n",
      "sito diagonale vicino 3 --> spin=0.0\n",
      "stato iniziale 1--> stato finale 8\n",
      "* sito 1 --> spin=0.0\n",
      "sito diagonale vicino 2 --> spin=0.0\n",
      "* sito 2 --> spin=0.0\n",
      "sito diagonale vicino 1 --> spin=0.0\n",
      "* sito 3 --> spin=0.0\n",
      "sito diagonale vicino 0 --> spin=1.0\n",
      "[[0.5, 4], [0.5, 2], [0.0, 8], [0.0, 1]]\n",
      "--------------------------\n",
      "stato 2\n",
      "* sito 0 --> spin=0.0\n",
      "sito diagonale vicino 3 --> spin=0.0\n",
      "* sito 1 --> spin=1.0\n",
      "sito diagonale vicino 2 --> spin=0.0\n",
      "stato iniziale 2--> stato finale 4\n",
      "* sito 2 --> spin=0.0\n",
      "sito diagonale vicino 1 --> spin=1.0\n",
      "* sito 3 --> spin=0.0\n",
      "sito diagonale vicino 0 --> spin=0.0\n",
      "[[0.5, 1], [0.5, 8], [0.0, 4], [0.0, 2]]\n",
      "--------------------------\n",
      "stato 4\n",
      "* sito 0 --> spin=0.0\n",
      "sito diagonale vicino 3 --> spin=0.0\n",
      "* sito 1 --> spin=0.0\n",
      "sito diagonale vicino 2 --> spin=1.0\n",
      "stato iniziale 4--> stato finale 2\n",
      "* sito 2 --> spin=1.0\n",
      "sito diagonale vicino 1 --> spin=0.0\n",
      "* sito 3 --> spin=0.0\n",
      "sito diagonale vicino 0 --> spin=0.0\n",
      "[[0.5, 1], [0.0, 2], [0.5, 8], [0.0, 4]]\n",
      "--------------------------\n",
      "stato 8\n",
      "* sito 0 --> spin=0.0\n",
      "sito diagonale vicino 3 --> spin=1.0\n",
      "stato iniziale 8--> stato finale 1\n",
      "* sito 1 --> spin=0.0\n",
      "sito diagonale vicino 2 --> spin=0.0\n",
      "* sito 2 --> spin=0.0\n",
      "sito diagonale vicino 1 --> spin=0.0\n",
      "* sito 3 --> spin=1.0\n",
      "sito diagonale vicino 0 --> spin=0.0\n",
      "[[0.0, 1], [0.5, 2], [0.5, 4], [0.0, 8]]\n",
      "--------------------------\n",
      "stato 3\n",
      "* sito 0 --> spin=1.0\n",
      "sito diagonale vicino 3 --> spin=0.0\n",
      "stato iniziale 3--> stato finale 10\n",
      "* sito 1 --> spin=1.0\n",
      "sito diagonale vicino 2 --> spin=0.0\n",
      "stato iniziale 3--> stato finale 5\n",
      "* sito 2 --> spin=0.0\n",
      "sito diagonale vicino 1 --> spin=1.0\n",
      "* sito 3 --> spin=0.0\n",
      "sito diagonale vicino 0 --> spin=1.0\n",
      "[[0.5, 6], [0.0, 10], [0.5, 9], [0.0, 5], [0.0, 3]]\n",
      "--------------------------\n",
      "stato 5\n",
      "* sito 0 --> spin=1.0\n",
      "sito diagonale vicino 3 --> spin=0.0\n",
      "stato iniziale 5--> stato finale 12\n",
      "* sito 1 --> spin=0.0\n",
      "sito diagonale vicino 2 --> spin=1.0\n",
      "stato iniziale 5--> stato finale 3\n",
      "* sito 2 --> spin=1.0\n",
      "sito diagonale vicino 1 --> spin=0.0\n",
      "* sito 3 --> spin=0.0\n",
      "sito diagonale vicino 0 --> spin=1.0\n",
      "[[0.5, 6], [0.0, 12], [0.0, 3], [0.5, 9], [0.0, 5]]\n",
      "--------------------------\n",
      "stato 6\n",
      "* sito 0 --> spin=0.0\n",
      "sito diagonale vicino 3 --> spin=0.0\n",
      "* sito 1 --> spin=1.0\n",
      "sito diagonale vicino 2 --> spin=1.0\n",
      "* sito 2 --> spin=1.0\n",
      "sito diagonale vicino 1 --> spin=1.0\n",
      "* sito 3 --> spin=0.0\n",
      "sito diagonale vicino 0 --> spin=0.0\n",
      "[[0.5, 3], [0.5, 5], [0.5, 12], [0.5, 10], [-1.0, 6]]\n",
      "--------------------------\n",
      "stato 9\n",
      "* sito 0 --> spin=1.0\n",
      "sito diagonale vicino 3 --> spin=1.0\n",
      "* sito 1 --> spin=0.0\n",
      "sito diagonale vicino 2 --> spin=0.0\n",
      "* sito 2 --> spin=0.0\n",
      "sito diagonale vicino 1 --> spin=0.0\n",
      "* sito 3 --> spin=1.0\n",
      "sito diagonale vicino 0 --> spin=1.0\n",
      "[[0.5, 12], [0.5, 10], [0.5, 3], [0.5, 5], [-1.0, 9]]\n",
      "--------------------------\n",
      "stato 10\n",
      "* sito 0 --> spin=0.0\n",
      "sito diagonale vicino 3 --> spin=1.0\n",
      "stato iniziale 10--> stato finale 3\n",
      "* sito 1 --> spin=1.0\n",
      "sito diagonale vicino 2 --> spin=0.0\n",
      "stato iniziale 10--> stato finale 12\n",
      "* sito 2 --> spin=0.0\n",
      "sito diagonale vicino 1 --> spin=1.0\n",
      "* sito 3 --> spin=1.0\n",
      "sito diagonale vicino 0 --> spin=0.0\n",
      "[[0.5, 9], [0.0, 3], [0.0, 12], [0.5, 6], [0.0, 10]]\n",
      "--------------------------\n",
      "stato 12\n",
      "* sito 0 --> spin=0.0\n",
      "sito diagonale vicino 3 --> spin=1.0\n",
      "stato iniziale 12--> stato finale 5\n",
      "* sito 1 --> spin=0.0\n",
      "sito diagonale vicino 2 --> spin=1.0\n",
      "stato iniziale 12--> stato finale 10\n",
      "* sito 2 --> spin=1.0\n",
      "sito diagonale vicino 1 --> spin=0.0\n",
      "* sito 3 --> spin=1.0\n",
      "sito diagonale vicino 0 --> spin=0.0\n",
      "[[0.5, 9], [0.0, 5], [0.5, 6], [0.0, 10], [0.0, 12]]\n",
      "--------------------------\n",
      "stato 7\n",
      "* sito 0 --> spin=1.0\n",
      "sito diagonale vicino 3 --> spin=0.0\n",
      "stato iniziale 7--> stato finale 14\n",
      "* sito 1 --> spin=1.0\n",
      "sito diagonale vicino 2 --> spin=1.0\n",
      "* sito 2 --> spin=1.0\n",
      "sito diagonale vicino 1 --> spin=1.0\n",
      "* sito 3 --> spin=0.0\n",
      "sito diagonale vicino 0 --> spin=1.0\n",
      "[[0.0, 14], [0.5, 13], [0.5, 11], [0.0, 7]]\n",
      "--------------------------\n",
      "stato 11\n",
      "* sito 0 --> spin=1.0\n",
      "sito diagonale vicino 3 --> spin=1.0\n",
      "* sito 1 --> spin=1.0\n",
      "sito diagonale vicino 2 --> spin=0.0\n",
      "stato iniziale 11--> stato finale 13\n",
      "* sito 2 --> spin=0.0\n",
      "sito diagonale vicino 1 --> spin=1.0\n",
      "* sito 3 --> spin=1.0\n",
      "sito diagonale vicino 0 --> spin=1.0\n",
      "[[0.5, 14], [0.0, 13], [0.5, 7], [0.0, 11]]\n",
      "--------------------------\n",
      "stato 13\n",
      "* sito 0 --> spin=1.0\n",
      "sito diagonale vicino 3 --> spin=1.0\n",
      "* sito 1 --> spin=0.0\n",
      "sito diagonale vicino 2 --> spin=1.0\n",
      "stato iniziale 13--> stato finale 11\n",
      "* sito 2 --> spin=1.0\n",
      "sito diagonale vicino 1 --> spin=0.0\n",
      "* sito 3 --> spin=1.0\n",
      "sito diagonale vicino 0 --> spin=1.0\n",
      "[[0.5, 14], [0.5, 7], [0.0, 11], [0.0, 13]]\n",
      "--------------------------\n",
      "stato 14\n",
      "* sito 0 --> spin=0.0\n",
      "sito diagonale vicino 3 --> spin=1.0\n",
      "stato iniziale 14--> stato finale 7\n",
      "* sito 1 --> spin=1.0\n",
      "sito diagonale vicino 2 --> spin=1.0\n",
      "* sito 2 --> spin=1.0\n",
      "sito diagonale vicino 1 --> spin=1.0\n",
      "* sito 3 --> spin=1.0\n",
      "sito diagonale vicino 0 --> spin=0.0\n",
      "[[0.5, 11], [0.5, 13], [0.0, 7], [0.0, 14]]\n",
      "--------------------------\n",
      "stato 15\n",
      "* sito 0 --> spin=1.0\n",
      "sito diagonale vicino 3 --> spin=1.0\n",
      "* sito 1 --> spin=1.0\n",
      "sito diagonale vicino 2 --> spin=1.0\n",
      "* sito 2 --> spin=1.0\n",
      "sito diagonale vicino 1 --> spin=1.0\n",
      "* sito 3 --> spin=1.0\n",
      "sito diagonale vicino 0 --> spin=1.0\n",
      "[[1.0, 15]]\n"
     ]
    },
    {
     "data": {
      "image/png": "[encoded data removed]",
      "text/plain": [
       "<Figure size 500x500 with 1 Axes>"
      ]
     },
     "metadata": {},
     "output_type": "display_data"
    },
    {
     "name": "stdout",
     "output_type": "stream",
     "text": [
      "[  1.0  0.0  0.0  0.0  0.0  0.0  0.0  0.0  0.0  0.0  0.0  0.0  0.0  0.0  0.0  0.0 ]\n",
      "[  0.0  0.0  0.5  0.5  0.0  0.0  0.0  0.0  0.0  0.0  0.0  0.0  0.0  0.0  0.0  0.0 ]\n",
      "[  0.0  0.5  0.0  0.0  0.5  0.0  0.0  0.0  0.0  0.0  0.0  0.0  0.0  0.0  0.0  0.0 ]\n",
      "[  0.0  0.5  0.0  0.0  0.5  0.0  0.0  0.0  0.0  0.0  0.0  0.0  0.0  0.0  0.0  0.0 ]\n",
      "[  0.0  0.0  0.5  0.5  0.0  0.0  0.0  0.0  0.0  0.0  0.0  0.0  0.0  0.0  0.0  0.0 ]\n",
      "[  0.0  0.0  0.0  0.0  0.0  0.0  0.0  0.5  0.5  0.0  0.0  0.0  0.0  0.0  0.0  0.0 ]\n",
      "[  0.0  0.0  0.0  0.0  0.0  0.0  0.0  0.5  0.5  0.0  0.0  0.0  0.0  0.0  0.0  0.0 ]\n",
      "[  0.0  0.0  0.0  0.0  0.0  0.5  0.5 -1.0  0.0  0.5  0.5  0.0  0.0  0.0  0.0  0.0 ]\n",
      "[  0.0  0.0  0.0  0.0  0.0  0.5  0.5  0.0 -1.0  0.5  0.5  0.0  0.0  0.0  0.0  0.0 ]\n",
      "[  0.0  0.0  0.0  0.0  0.0  0.0  0.0  0.5  0.5  0.0  0.0  0.0  0.0  0.0  0.0  0.0 ]\n",
      "[  0.0  0.0  0.0  0.0  0.0  0.0  0.0  0.5  0.5  0.0  0.0  0.0  0.0  0.0  0.0  0.0 ]\n",
      "[  0.0  0.0  0.0  0.0  0.0  0.0  0.0  0.0  0.0  0.0  0.0  0.0  0.5  0.5  0.0  0.0 ]\n",
      "[  0.0  0.0  0.0  0.0  0.0  0.0  0.0  0.0  0.0  0.0  0.0  0.5  0.0  0.0  0.5  0.0 ]\n",
      "[  0.0  0.0  0.0  0.0  0.0  0.0  0.0  0.0  0.0  0.0  0.0  0.5  0.0  0.0  0.5  0.0 ]\n",
      "[  0.0  0.0  0.0  0.0  0.0  0.0  0.0  0.0  0.0  0.0  0.0  0.0  0.5  0.5  0.0  0.0 ]\n",
      "[  0.0  0.0  0.0  0.0  0.0  0.0  0.0  0.0  0.0  0.0  0.0  0.0  0.0  0.0  0.0  1.0 ]\n"
     ]
    },
    {
     "data": {
      "image/png": "[encoded data removed]",
      "text/plain": [
       "<Figure size 640x480 with 2 Axes>"
      ]
     },
     "metadata": {},
     "output_type": "display_data"
    }
   ],
   "source": [
    "diag_block_matrix = H_diag_block(L,J1,J2)\n",
    "plt.figure(figsize=(5,5))\n",
    "plt.spy(diag_block_matrix, markersize=0.5)\n",
    "plt.show()\n",
    "\n",
    "#TOTAL DIAG BLOCK MATRIX\n",
    "dense_matrix = diag_block_matrix.toarray() \n",
    "np.save(\"block diag matrix.npy\", diag_block_matrix)\n",
    "for row in dense_matrix:\n",
    "    print(\"[\", \" \".join(f\"{i:4}\" for i in row), \"]\")\n",
    "\n",
    "# Plot della matrice con la colormap\n",
    "plt.imshow(dense_matrix, cmap='rainbow')\n",
    "plt.colorbar()  # Barra dei colori\n",
    "plt.show()"
   ]
  },
  {
   "cell_type": "markdown",
   "id": "5cd95011",
   "metadata": {},
   "source": [
    "# Correlazioni"
   ]
  },
  {
   "cell_type": "code",
   "execution_count": 16,
   "id": "628ad0af",
   "metadata": {},
   "outputs": [
    {
     "name": "stdout",
     "output_type": "stream",
     "text": [
      "(0,0), szsz=0.25000000000000006, s+s-=0.5000000000000001, s-s+=0.5000000000000001\n",
      "(0,1), szsz=-0.16666666666666657, s+s-=-0.33333333333333315, s-s+=-0.33333333333333315\n",
      "(0,2), szsz=-0.16666666666666685, s+s-=-0.3333333333333336, s-s+=-0.3333333333333336\n",
      "(0,3), szsz=0.08333333333333337, s+s-=0.16666666666666669, s-s+=0.16666666666666669\n",
      "i=0, j=0, corr=0.7500000000000002\n",
      "i=0, j=1, corr=-0.4999999999999997\n",
      "i=0, j=2, corr=-0.5000000000000004\n",
      "i=0, j=3, corr=0.25000000000000006\n",
      "i=1, j=0, corr=-0.4999999999999997\n",
      "i=1, j=1, corr=0.7500000000000002\n",
      "i=1, j=2, corr=0.25000000000000006\n",
      "i=1, j=3, corr=-0.5000000000000004\n",
      "i=2, j=0, corr=-0.5000000000000004\n",
      "i=2, j=1, corr=0.25000000000000006\n",
      "i=2, j=2, corr=0.7500000000000002\n",
      "i=2, j=3, corr=-0.4999999999999997\n",
      "i=3, j=0, corr=0.25000000000000006\n",
      "i=3, j=1, corr=-0.5000000000000004\n",
      "i=3, j=2, corr=-0.4999999999999997\n",
      "i=3, j=3, corr=0.7500000000000002\n",
      "(0,0), szsz=0.25000000000000006, s+s-=0.5000000000000001, s-s+=0.5000000000000001\n",
      "(0,1), szsz=-0.16666666666666657, s+s-=-0.33333333333333315, s-s+=-0.33333333333333315\n",
      "(0,2), szsz=-0.16666666666666685, s+s-=-0.3333333333333336, s-s+=-0.3333333333333336\n",
      "(0,3), szsz=0.08333333333333337, s+s-=0.16666666666666669, s-s+=0.16666666666666669\n",
      "nearest neighbor correlation -0.5000000000000001\n",
      "next neighbor correlation 0.25000000000000006\n"
     ]
    },
    {
     "data": {
      "image/png": "[encoded data removed]",
      "text/plain": [
       "<Figure size 400x400 with 2 Axes>"
      ]
     },
     "metadata": {},
     "output_type": "display_data"
    }
   ],
   "source": [
    "\n",
    "GS = eigvecs[:, 0]\n",
    "L = Lx * Ly\n",
    "correlations = HD.compute_sisj_correlations(GS, N, L)\n",
    "for i in range(4):\n",
    "    for j in range(4):\n",
    "        print(f'i={i}, j={j}, corr={correlations[i,j]}')\n",
    "\n",
    "SzSz_nn_exval, SzSz_nnn_exval = HD.sisj_mean(GS,N,L,neighbors_indices,diag_indices)\n",
    "print(\"nearest neighbor correlation\", SzSz_nn_exval)\n",
    "print(\"next neighbor correlation\", SzSz_nnn_exval)\n",
    "\n",
    "# Plot\n",
    "fig, ax = plt.subplots(figsize=(4, 4))\n",
    "im = ax.imshow(correlations, cmap='rainbow')\n",
    "cbar = fig.colorbar(im, ax=ax, fraction=0.046, pad=0.04)\n",
    "cbar.ax.tick_params(labelsize=10)\n",
    "cbar.set_label('Correlation value', fontsize=10)\n",
    "ax.set_xlabel('j')\n",
    "ax.set_ylabel('i')\n",
    "ax.set_yticks([0, 1, 2, 3])\n",
    "plt.tight_layout()\n",
    "plt.show()\n",
    "\n"
   ]
  },
  {
   "cell_type": "code",
   "execution_count": null,
   "id": "690d6339",
   "metadata": {},
   "outputs": [],
   "source": []
  },
  {
   "cell_type": "markdown",
   "id": "e9b0d8fb-859b-4406-bfb1-2d7c4843fac1",
   "metadata": {},
   "source": [
    "# Prove "
   ]
  },
  {
   "cell_type": "markdown",
   "id": "686f6936-4181-47be-9c7b-b452f7d070c7",
   "metadata": {},
   "source": [
    "### eign values"
   ]
  },
  {
   "cell_type": "code",
   "execution_count": 13,
   "id": "d1bdadb3-13e2-4dfa-ba03-dccba0134328",
   "metadata": {},
   "outputs": [
    {
     "data": {
      "text/plain": [
       "[<matplotlib.lines.Line2D at 0x772c1ecd3be0>]"
      ]
     },
     "execution_count": 13,
     "metadata": {},
     "output_type": "execute_result"
    },
    {
     "data": {
      "image/png": "[encoded data removed]",
      "text/plain": [
       "<Figure size 640x480 with 1 Axes>"
      ]
     },
     "metadata": {},
     "output_type": "display_data"
    }
   ],
   "source": [
    "\n",
    "#sparse_matrix MATRICE (sparsa)\n",
    "#diag_block_matrix MATRICE DIAGONALE A BLOCCHI (sparsa)\n",
    "vals, vecs = eigsh(sparse_matrix, k=15, which='SA') #LM Largest Magnitude, SM Smallest Magnitud, LA Largest Algebric, SA Smallest Algebric\n",
    "vals_diag, vecs_diag = eigsh(diag_block_matrix, k=15, which='SA') #LM Largest Magnitude, SM Smallest Magnitud, LA Largest Algebric, SA Smallest Algebric\n",
    "\n",
    "plt.plot(vals, \"o\")\n",
    "plt.plot(vals_diag, \"+\")"
   ]
  },
  {
   "cell_type": "code",
   "execution_count": 14,
   "id": "edde9741-373f-4179-8cd7-82250317fbca",
   "metadata": {},
   "outputs": [
    {
     "name": "stdout",
     "output_type": "stream",
     "text": [
      "-2.0\n"
     ]
    }
   ],
   "source": [
    "print(vals[0])"
   ]
  },
  {
   "cell_type": "code",
   "execution_count": 15,
   "id": "9c5310c0-aeb1-4b22-a119-71a31070fea5",
   "metadata": {},
   "outputs": [
    {
     "name": "stdout",
     "output_type": "stream",
     "text": [
      "[-0.    -0.    -0.     0.    -0.     0.     0.     0.     0.    -0.\n",
      "  0.     0.51  -0.642  0.117 -0.323]\n",
      "0b1101 0b1100\n"
     ]
    }
   ],
   "source": [
    "print(np.round(vecs[0],3))\n",
    "print(bin(13), bin(12))"
   ]
  },
  {
   "cell_type": "code",
   "execution_count": 16,
   "id": "82dfdb68-c4b3-4dfa-90c9-fb59114282c0",
   "metadata": {},
   "outputs": [
    {
     "data": {
      "text/plain": [
       "[<matplotlib.lines.Line2D at 0x772c1ee7e290>]"
      ]
     },
     "execution_count": 16,
     "metadata": {},
     "output_type": "execute_result"
    },
    {
     "data": {
      "image/png": "[encoded data removed]",
      "text/plain": [
       "<Figure size 640x480 with 1 Axes>"
      ]
     },
     "metadata": {},
     "output_type": "display_data"
    }
   ],
   "source": [
    "eigvals, eigvecs = la.eigh(matrix)\n",
    "eigvals_block, eigvecs_block = la.eigh(dense_matrix) #a blocchi\n",
    "\n",
    "plt.plot(eigvals, \"o\")\n",
    "plt.plot(eigvals_block, \"+\")"
   ]
  },
  {
   "cell_type": "code",
   "execution_count": null,
   "id": "82f93870-e919-40ae-8d40-5af56e49f3d6",
   "metadata": {},
   "outputs": [],
   "source": []
  },
  {
   "cell_type": "code",
   "execution_count": 17,
   "id": "175e7bf8-6498-4965-9810-17291c835a5f",
   "metadata": {},
   "outputs": [
    {
     "name": "stdout",
     "output_type": "stream",
     "text": [
      "--------------------------\n",
      "stato 1\n",
      "* sito 0 --> spin=1.0\n",
      "sito diagonale vicino 3 --> spin=0.0\n",
      "stato iniziale 1--> stato finale 8\n",
      "* sito 1 --> spin=0.0\n",
      "sito diagonale vicino 2 --> spin=0.0\n",
      "* sito 2 --> spin=0.0\n",
      "sito diagonale vicino 1 --> spin=0.0\n",
      "* sito 3 --> spin=0.0\n",
      "sito diagonale vicino 0 --> spin=1.0\n",
      "[[0.5, 4], [0.5, 2], [0.5, 8], [0.0, 1]]\n",
      "--------------------------\n",
      "stato 2\n",
      "* sito 0 --> spin=0.0\n",
      "sito diagonale vicino 3 --> spin=0.0\n",
      "* sito 1 --> spin=1.0\n",
      "sito diagonale vicino 2 --> spin=0.0\n",
      "stato iniziale 2--> stato finale 4\n",
      "* sito 2 --> spin=0.0\n",
      "sito diagonale vicino 1 --> spin=1.0\n",
      "* sito 3 --> spin=0.0\n",
      "sito diagonale vicino 0 --> spin=0.0\n",
      "[[0.5, 1], [0.5, 8], [0.5, 4], [0.0, 2]]\n",
      "--------------------------\n",
      "stato 4\n",
      "* sito 0 --> spin=0.0\n",
      "sito diagonale vicino 3 --> spin=0.0\n",
      "* sito 1 --> spin=0.0\n",
      "sito diagonale vicino 2 --> spin=1.0\n",
      "stato iniziale 4--> stato finale 2\n",
      "* sito 2 --> spin=1.0\n",
      "sito diagonale vicino 1 --> spin=0.0\n",
      "* sito 3 --> spin=0.0\n",
      "sito diagonale vicino 0 --> spin=0.0\n",
      "[[0.5, 1], [0.5, 2], [0.5, 8], [0.0, 4]]\n",
      "--------------------------\n",
      "stato 8\n",
      "* sito 0 --> spin=0.0\n",
      "sito diagonale vicino 3 --> spin=1.0\n",
      "stato iniziale 8--> stato finale 1\n",
      "* sito 1 --> spin=0.0\n",
      "sito diagonale vicino 2 --> spin=0.0\n",
      "* sito 2 --> spin=0.0\n",
      "sito diagonale vicino 1 --> spin=0.0\n",
      "* sito 3 --> spin=1.0\n",
      "sito diagonale vicino 0 --> spin=0.0\n",
      "[[0.5, 1], [0.5, 2], [0.5, 4], [0.0, 8]]\n",
      "1 primo autoval=-0.5, secondo autoval=-0.4999999999999998\n",
      "--------------------------\n",
      "stato 3\n",
      "* sito 0 --> spin=1.0\n",
      "sito diagonale vicino 3 --> spin=0.0\n",
      "stato iniziale 3--> stato finale 10\n",
      "* sito 1 --> spin=1.0\n",
      "sito diagonale vicino 2 --> spin=0.0\n",
      "stato iniziale 3--> stato finale 5\n",
      "* sito 2 --> spin=0.0\n",
      "sito diagonale vicino 1 --> spin=1.0\n",
      "* sito 3 --> spin=0.0\n",
      "sito diagonale vicino 0 --> spin=1.0\n",
      "[[0.5, 6], [0.5, 10], [0.5, 9], [0.5, 5], [-0.5, 3]]\n",
      "--------------------------\n",
      "stato 5\n",
      "* sito 0 --> spin=1.0\n",
      "sito diagonale vicino 3 --> spin=0.0\n",
      "stato iniziale 5--> stato finale 12\n",
      "* sito 1 --> spin=0.0\n",
      "sito diagonale vicino 2 --> spin=1.0\n",
      "stato iniziale 5--> stato finale 3\n",
      "* sito 2 --> spin=1.0\n",
      "sito diagonale vicino 1 --> spin=0.0\n",
      "* sito 3 --> spin=0.0\n",
      "sito diagonale vicino 0 --> spin=1.0\n",
      "[[0.5, 6], [0.5, 12], [0.5, 3], [0.5, 9], [-0.5, 5]]\n",
      "--------------------------\n",
      "stato 6\n",
      "* sito 0 --> spin=0.0\n",
      "sito diagonale vicino 3 --> spin=0.0\n",
      "* sito 1 --> spin=1.0\n",
      "sito diagonale vicino 2 --> spin=1.0\n",
      "* sito 2 --> spin=1.0\n",
      "sito diagonale vicino 1 --> spin=1.0\n",
      "* sito 3 --> spin=0.0\n",
      "sito diagonale vicino 0 --> spin=0.0\n",
      "[[0.5, 3], [0.5, 5], [0.5, 12], [0.5, 10], [-0.5, 6]]\n",
      "--------------------------\n",
      "stato 9\n",
      "* sito 0 --> spin=1.0\n",
      "sito diagonale vicino 3 --> spin=1.0\n",
      "* sito 1 --> spin=0.0\n",
      "sito diagonale vicino 2 --> spin=0.0\n",
      "* sito 2 --> spin=0.0\n",
      "sito diagonale vicino 1 --> spin=0.0\n",
      "* sito 3 --> spin=1.0\n",
      "sito diagonale vicino 0 --> spin=1.0\n",
      "[[0.5, 12], [0.5, 10], [0.5, 3], [0.5, 5], [-0.5, 9]]\n",
      "--------------------------\n",
      "stato 10\n",
      "* sito 0 --> spin=0.0\n",
      "sito diagonale vicino 3 --> spin=1.0\n",
      "stato iniziale 10--> stato finale 3\n",
      "* sito 1 --> spin=1.0\n",
      "sito diagonale vicino 2 --> spin=0.0\n",
      "stato iniziale 10--> stato finale 12\n",
      "* sito 2 --> spin=0.0\n",
      "sito diagonale vicino 1 --> spin=1.0\n",
      "* sito 3 --> spin=1.0\n",
      "sito diagonale vicino 0 --> spin=0.0\n",
      "[[0.5, 9], [0.5, 3], [0.5, 12], [0.5, 6], [-0.5, 10]]\n",
      "--------------------------\n",
      "stato 12\n",
      "* sito 0 --> spin=0.0\n",
      "sito diagonale vicino 3 --> spin=1.0\n",
      "stato iniziale 12--> stato finale 5\n",
      "* sito 1 --> spin=0.0\n",
      "sito diagonale vicino 2 --> spin=1.0\n",
      "stato iniziale 12--> stato finale 10\n",
      "* sito 2 --> spin=1.0\n",
      "sito diagonale vicino 1 --> spin=0.0\n",
      "* sito 3 --> spin=1.0\n",
      "sito diagonale vicino 0 --> spin=0.0\n",
      "[[0.5, 9], [0.5, 5], [0.5, 6], [0.5, 10], [-0.5, 12]]\n",
      "2 primo autoval=-1.5000000000000007, secondo autoval=-1.5000000000000004\n",
      "--------------------------\n",
      "stato 7\n",
      "* sito 0 --> spin=1.0\n",
      "sito diagonale vicino 3 --> spin=0.0\n",
      "stato iniziale 7--> stato finale 14\n",
      "* sito 1 --> spin=1.0\n",
      "sito diagonale vicino 2 --> spin=1.0\n",
      "* sito 2 --> spin=1.0\n",
      "sito diagonale vicino 1 --> spin=1.0\n",
      "* sito 3 --> spin=0.0\n",
      "sito diagonale vicino 0 --> spin=1.0\n",
      "[[0.5, 14], [0.5, 13], [0.5, 11], [0.0, 7]]\n",
      "--------------------------\n",
      "stato 11\n",
      "* sito 0 --> spin=1.0\n",
      "sito diagonale vicino 3 --> spin=1.0\n",
      "* sito 1 --> spin=1.0\n",
      "sito diagonale vicino 2 --> spin=0.0\n",
      "stato iniziale 11--> stato finale 13\n",
      "* sito 2 --> spin=0.0\n",
      "sito diagonale vicino 1 --> spin=1.0\n",
      "* sito 3 --> spin=1.0\n",
      "sito diagonale vicino 0 --> spin=1.0\n",
      "[[0.5, 14], [0.5, 13], [0.5, 7], [0.0, 11]]\n",
      "--------------------------\n",
      "stato 13\n",
      "* sito 0 --> spin=1.0\n",
      "sito diagonale vicino 3 --> spin=1.0\n",
      "* sito 1 --> spin=0.0\n",
      "sito diagonale vicino 2 --> spin=1.0\n",
      "stato iniziale 13--> stato finale 11\n",
      "* sito 2 --> spin=1.0\n",
      "sito diagonale vicino 1 --> spin=0.0\n",
      "* sito 3 --> spin=1.0\n",
      "sito diagonale vicino 0 --> spin=1.0\n",
      "[[0.5, 14], [0.5, 7], [0.5, 11], [0.0, 13]]\n",
      "--------------------------\n",
      "stato 14\n",
      "* sito 0 --> spin=0.0\n",
      "sito diagonale vicino 3 --> spin=1.0\n",
      "stato iniziale 14--> stato finale 7\n",
      "* sito 1 --> spin=1.0\n",
      "sito diagonale vicino 2 --> spin=1.0\n",
      "* sito 2 --> spin=1.0\n",
      "sito diagonale vicino 1 --> spin=1.0\n",
      "* sito 3 --> spin=1.0\n",
      "sito diagonale vicino 0 --> spin=0.0\n",
      "[[0.5, 11], [0.5, 13], [0.5, 7], [0.0, 14]]\n",
      "3 primo autoval=-0.5, secondo autoval=-0.49999999999999994\n"
     ]
    },
    {
     "data": {
      "image/png": "[encoded data removed]",
      "text/plain": [
       "<Figure size 640x480 with 1 Axes>"
      ]
     },
     "metadata": {},
     "output_type": "display_data"
    }
   ],
   "source": [
    "#diagonalizzazione singoli blocchi\n",
    "J1,J2=1,1\n",
    "for N in range(1,L):\n",
    "    HN = build_HN(L,N,J1,J2)\n",
    "    vals, vecs = eigsh(HN, k=2, which='SA') #LM Largest Magnitude, SM Smallest Magnitud, LA Largest Algebric, SA Smallest Algebric\n",
    "    print(N, f\"primo autoval={vals[0]}, secondo autoval={vals[1]}\")\n",
    "    plt.plot(N, vals[0], \"o\", color=\"black\")"
   ]
  },
  {
   "cell_type": "code",
   "execution_count": null,
   "id": "6b733aae-4fc1-4300-93e8-a6f845d19d21",
   "metadata": {},
   "outputs": [],
   "source": []
  },
  {
   "cell_type": "code",
   "execution_count": null,
   "id": "bf12ce25-574e-4b25-98e5-3919f3b99ac8",
   "metadata": {},
   "outputs": [],
   "source": []
  },
  {
   "cell_type": "code",
   "execution_count": 51,
   "id": "1c1892ca-bbb3-4646-b2d0-a545a9ca360b",
   "metadata": {},
   "outputs": [
    {
     "ename": "AttributeError",
     "evalue": "'numpy.ndarray' object has no attribute 'append'",
     "output_type": "error",
     "traceback": [
      "\u001b[0;31m---------------------------------------------------------------------------\u001b[0m",
      "\u001b[0;31mAttributeError\u001b[0m                            Traceback (most recent call last)",
      "Cell \u001b[0;32mIn[51], line 8\u001b[0m\n\u001b[1;32m      6\u001b[0m H \u001b[38;5;241m=\u001b[39m Hamiltonian(J1,J2,i)\n\u001b[1;32m      7\u001b[0m \u001b[38;5;28;01mfor\u001b[39;00m value,j \u001b[38;5;129;01min\u001b[39;00m H:\n\u001b[0;32m----> 8\u001b[0m     \u001b[43mrow\u001b[49m\u001b[38;5;241;43m.\u001b[39;49m\u001b[43mappend\u001b[49m(i)      \n\u001b[1;32m      9\u001b[0m     col\u001b[38;5;241m.\u001b[39mappend(j)      \n\u001b[1;32m     10\u001b[0m     data\u001b[38;5;241m.\u001b[39mappend(value) \u001b[38;5;66;03m#appende value in posizione (i,j) \u001b[39;00m\n",
      "\u001b[0;31mAttributeError\u001b[0m: 'numpy.ndarray' object has no attribute 'append'"
     ]
    }
   ],
   "source": [
    "theta = [0, np.pi/4, np.pi/2, 3/4*np.pi, np.pi]\n",
    "for l in range(len(theta)):\n",
    "    J1 = np.sin(theta[l])\n",
    "    J2 = np.cos(theta[l])\n",
    "    for i in range(dim):\n",
    "        H = Hamiltonian(J1,J2,i)\n",
    "        for value,j in H:\n",
    "            row.append(i)      \n",
    "            col.append(j)      \n",
    "            data.append(value) #appende value in posizione (i,j) \n",
    "    sparse_matrix = csr_matrix((data,(row,col)),shape=(dim,dim))\n",
    "    vals, vecs = eigsh(sparse_matrix, k=30, which='SA') #LM Largest Magnitude, SM Smallest Magnitud, LA Largest Algebric, SA Smallest Algebric\n",
    "    eigen_values = np.array(vals)\n",
    "    plt.plot(eigen_values, 'o', label=f\"J1={round(J1,2)}, J2={round(J2,2)}\")\n",
    "plt.legend()\n",
    "plt.show()\n",
    "    "
   ]
  },
  {
   "cell_type": "code",
   "execution_count": 29,
   "id": "0ca0394e-5b2c-4eb7-bd6b-1c5bc04918d6",
   "metadata": {},
   "outputs": [
    {
     "name": "stdout",
     "output_type": "stream",
     "text": [
      "[0.0, 1.5707963267948966, 3.141592653589793, 4.71238898038469, 6.283185307179586, 7.853981633974483, 9.42477796076938, 10.995574287564276]\n"
     ]
    }
   ],
   "source": [
    "theta = [i*np.pi/2 for i in range(8)]"
   ]
  },
  {
   "cell_type": "code",
   "execution_count": 36,
   "id": "c0c5ca25-c8be-4531-a570-0a8fc4df086b",
   "metadata": {},
   "outputs": [
    {
     "name": "stdout",
     "output_type": "stream",
     "text": [
      "0\n",
      "1\n",
      "2\n",
      "3\n",
      "4\n",
      "5\n",
      "6\n",
      "7\n"
     ]
    },
    {
     "data": {
      "image/png": "[encoded data removed]",
      "text/plain": [
       "<Figure size 640x480 with 1 Axes>"
      ]
     },
     "metadata": {},
     "output_type": "display_data"
    }
   ],
   "source": [
    "theta = [i*np.pi/4 for i in range(8)]\n",
    "gap = []\n",
    "for l in range(len(theta)):\n",
    "    print(l)\n",
    "    J1 = np.sin(theta[l])\n",
    "    J2 = np.cos(theta[l])\n",
    "    for i in range(dim):\n",
    "        H = Hamiltonian(J1,J2,i)\n",
    "        for value,j in H:\n",
    "            row.append(i)      \n",
    "            col.append(j)      \n",
    "            data.append(value) #appende value in posizione (i,j) \n",
    "    sparse_matrix = csr_matrix((data,(row,col)),shape=(dim,dim))\n",
    "    vals, vecs = eigsh(sparse_matrix, k=2, which='SA') #LM Largest Magnitude, SM Smallest Magnitud, LA Largest Algebric, SA Smallest Algebric\n",
    "    eingen_values = np.array(vals)\n",
    "    gap.append(eingen_values[1]-eingen_values[0])\n",
    "    plt.plot(theta[l], gap[l], 'o', label=f\"J1={round(J1,2)}, J2={round(J2,2)}\")\n",
    "plt.legend()\n",
    "plt.show()"
   ]
  },
  {
   "cell_type": "code",
   "execution_count": null,
   "id": "33d92338-40f2-4c8d-990c-91ea0dfe9724",
   "metadata": {},
   "outputs": [],
   "source": []
  }
 ],
 "metadata": {
  "kernelspec": {
   "display_name": "Python 3",
   "language": "python",
   "name": "python3"
  },
  "language_info": {
   "codemirror_mode": {
    "name": "ipython",
    "version": 3
   },
   "file_extension": ".py",
   "mimetype": "text/x-python",
   "name": "python",
   "nbconvert_exporter": "python",
   "pygments_lexer": "ipython3",
   "version": "3.10.12"
  }
 },
 "nbformat": 4,
 "nbformat_minor": 5
}
