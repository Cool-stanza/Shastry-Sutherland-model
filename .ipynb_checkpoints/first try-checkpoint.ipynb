{
 "cells": [
  {
   "cell_type": "code",
   "execution_count": 367,
   "id": "ae41ce68-eefe-415a-a750-d5bc2c331278",
   "metadata": {},
   "outputs": [],
   "source": [
    "import numpy as np\n",
    "import matplotlib.pyplot as plt\n",
    "import itertools"
   ]
  },
  {
   "cell_type": "code",
   "execution_count": 104,
   "id": "6c485a1c-a0f8-4bb7-8421-64c25becc3a0",
   "metadata": {},
   "outputs": [],
   "source": [
    "Lx, Ly = 2,2  # lattice dim"
   ]
  },
  {
   "cell_type": "code",
   "execution_count": 105,
   "id": "07be879f-dda1-490d-bbb1-0b67d8fbefd8",
   "metadata": {},
   "outputs": [
    {
     "name": "stdout",
     "output_type": "stream",
     "text": [
      "[(0, 0), (0, 1), (1, 0), (1, 1)]\n"
     ]
    }
   ],
   "source": [
    "#coordinates of lattice points\n",
    "coor = []                     \n",
    "for i in range(Lx):       \n",
    "    for j in range(Ly):   \n",
    "        coor.append((i,j))\n",
    "print(coor)\n",
    "\n",
    "#label for lattice points\n",
    "lattice_label = [0,1,2,3,4,5,6,7,8,9,10,11,12,13,14,15] \n",
    "\n",
    "#lattice\n",
    "x = [point[0] for point in coor]\n",
    "y = [point[1] for point in coor]\n",
    "#plt.figure(figsize=(3,3))\n",
    "#plt.scatter(x, y)\n",
    "#for idx, point in enumerate(coor):\n",
    "    #plt.text(point[0] + 0.05, point[1] + 0.05, f\"{lattice_label[idx]}\", fontsize=10)\n",
    "    #plt.text(point[0] + 0.15, point[1] + 0.15, f\"{point}\", fontsize=10)\n",
    "#print(coor[13])"
   ]
  },
  {
   "cell_type": "code",
   "execution_count": 143,
   "id": "046dac6e-2eaa-4001-9eea-124c07f0b6c0",
   "metadata": {},
   "outputs": [
    {
     "name": "stdout",
     "output_type": "stream",
     "text": [
      "[[2, 1], [3, 0], [0, 3], [1, 2]]\n"
     ]
    },
    {
     "data": {
      "image/png": "[encoded data removed]",
      "text/plain": [
       "<Figure size 300x300 with 1 Axes>"
      ]
     },
     "metadata": {},
     "output_type": "display_data"
    }
   ],
   "source": [
    "# NEAREST NEIGHBORS\n",
    "#!!!forse basta solo right-top, altrimenti li conto due volte\n",
    "neighbors = []\n",
    "for idx, (i, j) in enumerate(coor):\n",
    "    neighbor_list = []\n",
    "    \n",
    "    #left = (i-1)%Lx  # if i==0, nn==Lx-1 (==3)\n",
    "    #neighbor_list.append((left, j))  \n",
    "    \n",
    "    right = (i+1)%Lx  # if i==Lx-1 nn==0 \n",
    "    neighbor_list.append((right, j))  \n",
    "    \n",
    "    top = (j-1)%Ly  # if j==0, nn==Ly-1 (==3)\n",
    "    neighbor_list.append((i, top))  \n",
    "    \n",
    "    #bottom = (j+1)%Ly  # if j==Ly-1, nn==0 \n",
    "    #neighbor_list.append((i, bottom))  \n",
    "    \n",
    "    neighbors.append(neighbor_list)\n",
    "\n",
    "neighbors_indices = []\n",
    "for neighbor_list in neighbors:\n",
    "    indices = [coor.index(v) for v in neighbor_list]  # find the index of each nn\n",
    "    neighbors_indices.append(indices)\n",
    "    \n",
    "#for idx, neighbor_list in enumerate(neighbors_indices):\n",
    "#    print(f\"Nearest neighbors of {idx}: {neighbor_list}\")\n",
    "print(neighbors_indices)\n",
    "\n",
    "# nn lattice\n",
    "x = [point[0] for point in coor]\n",
    "y = [point[1] for point in coor]\n",
    "\n",
    "plt.figure(figsize=(3,3))\n",
    "plt.scatter(x, y)\n",
    "for idx, point in enumerate(coor):\n",
    "    plt.text(point[0] + 0.05, point[1] + 0.05, f\"{lattice_label[idx]}\", fontsize=10)\n",
    "\n",
    "for i, neighbor_list in enumerate(neighbors_indices):\n",
    "    for neighbor_idx in neighbor_list:\n",
    "        x_vals = [coor[i][0], coor[neighbor_idx][0]]\n",
    "        y_vals = [coor[i][1], coor[neighbor_idx][1]]\n",
    "        plt.plot(x_vals, y_vals, 'k-', alpha=0.5)  # nn line\n",
    "plt.show()"
   ]
  },
  {
   "cell_type": "code",
   "execution_count": 144,
   "id": "c1e2a1cc-074d-4747-b104-2ba92e49f124",
   "metadata": {},
   "outputs": [
    {
     "name": "stdout",
     "output_type": "stream",
     "text": [
      "coor dei secondi vicini [(1, 1), (1, 0), (0, 1), (0, 0)]\n",
      "Indici dei secondi vicini diagonali: [[3], [2], [1], [0]]\n"
     ]
    },
    {
     "data": {
      "image/png": "[encoded data removed]",
      "text/plain": [
       "<Figure size 300x300 with 1 Axes>"
      ]
     },
     "metadata": {},
     "output_type": "display_data"
    }
   ],
   "source": [
    "# NEXT NEIGHBORS - DIAGONALS\n",
    "avoid = []\n",
    "diagonals = [None]*Lx*Ly\n",
    "for idx, (i, j) in enumerate(coor):   \n",
    "    if i%2==0 and j%2==0:\n",
    "        #print(idx, i, j)\n",
    "        next_x = (i+1)  \n",
    "        next_y = (j+1)\n",
    "        diagonals[idx]=((next_x, next_y))\n",
    "        avoid.append((i,j))\n",
    "        \n",
    "    if i%2!=0 and j%2!=0:     \n",
    "        #print(idx, i, j)\n",
    "        next_x = (i-1)  \n",
    "        next_y = (j-1)\n",
    "        diagonals[idx]=((next_x, next_y))\n",
    "        avoid.append((i,j))  \n",
    "#print(\"elemente già riempiti\", avoid)\n",
    "#print(\"coor dei secondi vicini\",diagonals)\n",
    "\n",
    "for idx, (i, j) in enumerate(coor):  \n",
    "    if (i,j) in avoid:\n",
    "        continue\n",
    "    elif i%2==0:\n",
    "        next_x = (i-1)%Lx \n",
    "        next_y = (j+1)%Ly \n",
    "        #print(i,j, \"-->\",next_x, next_y )\n",
    "        diagonals[idx]=((next_x,next_y))\n",
    "    elif i%2!=0:\n",
    "        next_x = (i+1)%Lx \n",
    "        next_y = (j-1)%Ly \n",
    "        #print(i,j, \"-->\",next_x, next_y )\n",
    "        diagonals[idx]=((next_x,next_y))\n",
    "print(\"coor dei secondi vicini\",diagonals)\n",
    "\n",
    "#---------------------------------------------\n",
    "diag_indices = []\n",
    "for diag_point in diagonals:\n",
    "    if diag_point is not None:  #\n",
    "        index = coor.index(diag_point)  # Trova l'indice della tupla in coor\n",
    "        diag_indices.append([index])  # Crea una lista con l'indice trovato\n",
    "    else:\n",
    "        diag_indices.append([])  \n",
    "print(\"Indici dei secondi vicini diagonali:\", diag_indices)\n",
    "\n",
    "#-----------------------------------------------\n",
    "\n",
    "# next neighbor lattice\n",
    "x = [point[0] for point in coor]\n",
    "y = [point[1] for point in coor]\n",
    "\n",
    "plt.figure(figsize=(3,3))\n",
    "plt.scatter(x, y)\n",
    "for idx, point in enumerate(coor):\n",
    "    plt.text(point[0] + 0.05, point[1] + 0.05, f\"{lattice_label[idx]}\", fontsize=10)\n",
    "\n",
    "for i, diag_list in enumerate(diag_indices):\n",
    "    for diag_idx in diag_list:\n",
    "        x_vals = [coor[i][0], coor[diag_idx][0]]\n",
    "        y_vals = [coor[i][1], coor[diag_idx][1]]\n",
    "        plt.plot(x_vals, y_vals, 'k--', alpha=0.5)  # nn line\n",
    "        \n",
    "for i, neighbor_list in enumerate(neighbors_indices):\n",
    "    for neighbor_idx in neighbor_list:\n",
    "        x_vals = [coor[i][0], coor[neighbor_idx][0]]\n",
    "        y_vals = [coor[i][1], coor[neighbor_idx][1]]\n",
    "        plt.plot(x_vals, y_vals, 'k-', alpha=0.5)  # nn line\n",
    "plt.show()"
   ]
  },
  {
   "cell_type": "code",
   "execution_count": 145,
   "id": "8086ef44-80bd-49d9-8bef-7c131c90f7d4",
   "metadata": {},
   "outputs": [
    {
     "name": "stdout",
     "output_type": "stream",
     "text": [
      "0 --> Nearest neighbors: [2, 1]  -- Next neighbor: [3]\n",
      "1 --> Nearest neighbors: [3, 0]  -- Next neighbor: [2]\n",
      "2 --> Nearest neighbors: [0, 3]  -- Next neighbor: [1]\n",
      "3 --> Nearest neighbors: [1, 2]  -- Next neighbor: [0]\n"
     ]
    }
   ],
   "source": [
    "#check\n",
    "for idx, (i,j) in enumerate(coor):\n",
    "    print(f\"{idx} --> Nearest neighbors: {neighbors_indices[idx]}\", f\" -- Next neighbor: {diag_indices[idx]}\")\n",
    "#for idx, (i,j) in enumerate(coor):\n",
    " #   print(f\"{(i,j)} --> Nearest neighbors: {neighbors[idx]}\", f\" -- Next neighbor: {diagonals[idx]}\")"
   ]
  },
  {
   "cell_type": "code",
   "execution_count": 219,
   "id": "0f0d3adb-67d7-4059-b50f-9579002f87ae",
   "metadata": {},
   "outputs": [
    {
     "name": "stdout",
     "output_type": "stream",
     "text": [
      "label elementi di base [0, 1, 2, 3, 4, 5, 6, 7, 8, 9, 10, 11, 12, 13, 14, 15]\n",
      "['0000', '0001', '0010', '0011', '0100', '0101', '0110', '0111', '1000', '1001', '1010', '1011', '1100', '1101', '1110', '1111']\n"
     ]
    }
   ],
   "source": [
    "#basis\n",
    "\n",
    "#c = list(itertools.product(range(2), repeat=Lx*Ly))\n",
    "#print(len(c))\n",
    "#print(\"elementi di base\" , c)\n",
    "#elements of the basis - labels\n",
    "#basis_label=[]\n",
    "#for j in range(len(c)):\n",
    "#    m=0\n",
    "#    for i in range(Lx*Ly): # ! i parte da 0 !\n",
    "#        m+=c[j][i]*2**(i)\n",
    "#    basis_label.append(m)\n",
    "#print(\"label elementi di base\",basis_label)\n",
    "\n",
    "dim=Lx*Ly\n",
    "basis_label = list(range(dim*dim))\n",
    "print(\"label elementi di base\",basis_label)\n",
    "c = []\n",
    "for i in range(len(basis_label)):\n",
    "    c.append(bin(basis_label[i])[2:].zfill(4))\n",
    "print(c)"
   ]
  },
  {
   "cell_type": "code",
   "execution_count": 232,
   "id": "d380b6b8-a9ab-4bba-8ca2-c85d42c7912b",
   "metadata": {},
   "outputs": [],
   "source": [
    "# HAMILTONIAN - NEAREST NEIGHBORS\n",
    "dim=Lx*Ly\n",
    "def flip(state,i,j): #flippa lo spin degli indici i e j\n",
    "    return state ^ (2**i + 2**j) # ^==xor\n",
    "\n",
    "def Hamiltonian(state):\n",
    "    result = []\n",
    "    coeff = 0\n",
    "    for i in range(dim):\n",
    "        n = (state & 2**i)/2**i\n",
    "        #print(\"posizione\", i, \"dello stato ha spin =\",(2*n-1)/2)\n",
    "        for j in neighbors_indices[i]:\n",
    "            nn = (state & 2**j)/2**j\n",
    "            #print(\"pv di\", i, \"cioè \",j, \"ha spin = \", (2*nn-1)/2)\n",
    "            coeff += (2*n-1)*(2*nn-1)/8 # sarebbe (2*n-1)/2 * (2*nn-1)/2 * 1/2 perchè sto contando due volte\n",
    "            if n!=nn :\n",
    "                if i<j :\n",
    "                    new_state = flip(state,i,j)\n",
    "                    #print(\"H_B\", new_state)\n",
    "                    result.append([1.0,new_state])\n",
    "    result.append([coeff, state])\n",
    "    return result    "
   ]
  },
  {
   "cell_type": "code",
   "execution_count": 237,
   "id": "948740f1-2ea7-42f8-947b-6af9f439c070",
   "metadata": {},
   "outputs": [
    {
     "name": "stdout",
     "output_type": "stream",
     "text": [
      "stato prova |n> 0 cioè 0000\n",
      "H|n= 0 >= [[1.0, 0]]\n",
      "[[1.0, 0]] 1.0 0\n"
     ]
    }
   ],
   "source": [
    "#prove\n",
    "t = 0\n",
    "state=basis_label[t]\n",
    "print(\"stato prova |n>\",state, \"cioè\", c[t])\n",
    "\n",
    "state = basis_label[t]\n",
    "print(\"H|n=\",state,\">=\",Hamiltonian(state))\n",
    "H=Hamiltonian(state)\n",
    "print(H, H[0][0], H[0][1])"
   ]
  },
  {
   "cell_type": "code",
   "execution_count": 234,
   "id": "5d5f9697-8eb4-4d99-8a1e-a09a574d2f78",
   "metadata": {},
   "outputs": [
    {
     "name": "stdout",
     "output_type": "stream",
     "text": [
      "H| 0 > = [[1.0, 0]]\n",
      "H| 1 > = [[1.0, 4], [1.0, 2], [0.0, 1]]\n",
      "H| 2 > = [[1.0, 1], [1.0, 8], [0.0, 2]]\n",
      "H| 3 > = [[1.0, 6], [1.0, 9], [0.0, 3]]\n",
      "H| 4 > = [[1.0, 1], [1.0, 8], [0.0, 4]]\n",
      "H| 5 > = [[1.0, 6], [1.0, 9], [0.0, 5]]\n",
      "H| 6 > = [[1.0, 3], [1.0, 5], [1.0, 12], [1.0, 10], [-1.0, 6]]\n",
      "H| 7 > = [[1.0, 13], [1.0, 11], [0.0, 7]]\n",
      "H| 8 > = [[1.0, 2], [1.0, 4], [0.0, 8]]\n",
      "H| 9 > = [[1.0, 12], [1.0, 10], [1.0, 3], [1.0, 5], [-1.0, 9]]\n",
      "H| 10 > = [[1.0, 9], [1.0, 6], [0.0, 10]]\n",
      "H| 11 > = [[1.0, 14], [1.0, 7], [0.0, 11]]\n",
      "H| 12 > = [[1.0, 9], [1.0, 6], [0.0, 12]]\n",
      "H| 13 > = [[1.0, 14], [1.0, 7], [0.0, 13]]\n",
      "H| 14 > = [[1.0, 11], [1.0, 13], [0.0, 14]]\n",
      "H| 15 > = [[1.0, 15]]\n"
     ]
    }
   ],
   "source": [
    "#H|n> nearest neighbor\n",
    "for i in range(dim*dim):\n",
    "    state = basis_label[i]\n",
    "    H=Hamiltonian(state)\n",
    "    print(\"H|\",state,\"> =\",H)"
   ]
  },
  {
   "cell_type": "code",
   "execution_count": 363,
   "id": "04599754-da61-4586-8f7d-c38e59eb43f0",
   "metadata": {},
   "outputs": [
    {
     "name": "stdout",
     "output_type": "stream",
     "text": [
      "[1.0, 0.0, 0.0, 0.0, 0.0, 0.0, 0.0, 0.0, 0.0, 0.0, 0.0, 0.0, 0.0, 0.0, 0.0, 0.0]\n",
      "[0.0, 0.0, 1.0, 0.0, 1.0, 0.0, 0.0, 0.0, 0.0, 0.0, 0.0, 0.0, 0.0, 0.0, 0.0, 0.0]\n",
      "[0.0, 1.0, 0.0, 0.0, 0.0, 0.0, 0.0, 0.0, 1.0, 0.0, 0.0, 0.0, 0.0, 0.0, 0.0, 0.0]\n",
      "[0.0, 0.0, 0.0, 0.0, 0.0, 0.0, 1.0, 0.0, 0.0, 1.0, 0.0, 0.0, 0.0, 0.0, 0.0, 0.0]\n",
      "[0.0, 1.0, 0.0, 0.0, 0.0, 0.0, 0.0, 0.0, 1.0, 0.0, 0.0, 0.0, 0.0, 0.0, 0.0, 0.0]\n",
      "[0.0, 0.0, 0.0, 0.0, 0.0, 0.0, 1.0, 0.0, 0.0, 1.0, 0.0, 0.0, 0.0, 0.0, 0.0, 0.0]\n",
      "[0.0, 0.0, 0.0, 1.0, 0.0, 1.0, -1.0, 0.0, 0.0, 0.0, 1.0, 0.0, 1.0, 0.0, 0.0, 0.0]\n",
      "[0.0, 0.0, 0.0, 0.0, 0.0, 0.0, 0.0, 0.0, 0.0, 0.0, 0.0, 1.0, 0.0, 1.0, 0.0, 0.0]\n",
      "[0.0, 0.0, 1.0, 0.0, 1.0, 0.0, 0.0, 0.0, 0.0, 0.0, 0.0, 0.0, 0.0, 0.0, 0.0, 0.0]\n",
      "[0.0, 0.0, 0.0, 1.0, 0.0, 1.0, 0.0, 0.0, 0.0, -1.0, 1.0, 0.0, 1.0, 0.0, 0.0, 0.0]\n",
      "[0.0, 0.0, 0.0, 0.0, 0.0, 0.0, 1.0, 0.0, 0.0, 1.0, 0.0, 0.0, 0.0, 0.0, 0.0, 0.0]\n",
      "[0.0, 0.0, 0.0, 0.0, 0.0, 0.0, 0.0, 1.0, 0.0, 0.0, 0.0, 0.0, 0.0, 0.0, 1.0, 0.0]\n",
      "[0.0, 0.0, 0.0, 0.0, 0.0, 0.0, 1.0, 0.0, 0.0, 1.0, 0.0, 0.0, 0.0, 0.0, 0.0, 0.0]\n",
      "[0.0, 0.0, 0.0, 0.0, 0.0, 0.0, 0.0, 1.0, 0.0, 0.0, 0.0, 0.0, 0.0, 0.0, 1.0, 0.0]\n",
      "[0.0, 0.0, 0.0, 0.0, 0.0, 0.0, 0.0, 0.0, 0.0, 0.0, 0.0, 1.0, 0.0, 1.0, 0.0, 0.0]\n",
      "[0.0, 0.0, 0.0, 0.0, 0.0, 0.0, 0.0, 0.0, 0.0, 0.0, 0.0, 0.0, 0.0, 0.0, 0.0, 1.0]\n"
     ]
    }
   ],
   "source": [
    "\"\"\"state = basis_label[7]\n",
    "H_state = Hamiltonian(state)\n",
    "already_filled = [k[1] for k in H_state]\n",
    "print(already_filled)\n",
    "index = {valore: i for i, valore in enumerate(already_filled)}\n",
    "elemento = already_filled[2]\n",
    "indice = index[elemento]\n",
    "print(f\"L'indice di '{elemento}' è {indice}\")\n",
    "for j in range(dim*dim):\n",
    "    if j in already_filled:\n",
    "        print(j,index[j])\"\"\"\n",
    "\n",
    "\n",
    "matrix = []\n",
    "for i in range(dim*dim):\n",
    "    row = []\n",
    "    state = basis_label[i]\n",
    "    H_state = Hamiltonian(state)\n",
    "    already_filled = [k[1] for k in H_state]\n",
    "    index = {v: i for i, v in enumerate(already_filled)}\n",
    "    for j in range(dim*dim):\n",
    "        if j in already_filled:\n",
    "            row.append(H_state[index[j]][0])   \n",
    "        else:\n",
    "            row.append(0.0)\n",
    "    #print(column)\n",
    "    matrix.append(row) \n",
    "for i in range(dim*dim):\n",
    "    print(matrix[i])            "
   ]
  },
  {
   "cell_type": "code",
   "execution_count": null,
   "id": "fe040b54-ebac-4b12-92e1-4f54b5676d8a",
   "metadata": {},
   "outputs": [],
   "source": []
  },
  {
   "cell_type": "code",
   "execution_count": 364,
   "id": "6faab357-7aa3-431d-9a32-031521473d78",
   "metadata": {},
   "outputs": [],
   "source": [
    "# HAMILTONIAN - NEXT NEIGHBORS\n",
    "dim=Lx*Ly\n",
    "def flip(state,i,j): #flippa lo spin degli indici i e j\n",
    "    return state ^ (2**i + 2**j) # ^==xor\n",
    "\n",
    "def Hamiltonian(state):\n",
    "    result = []\n",
    "    coeff = 0\n",
    "    for i in range(dim):\n",
    "        n = (state & 2**i)/2**i\n",
    "        #print(\"posizione\", i, \"dello stato ha spin =\",(2*n-1)/2)\n",
    "        for j in diag_indices[i]:\n",
    "            nn = (state & 2**j)/2**j\n",
    "            #print(\"pv di\", i, \"cioè \",j, \"ha spin = \", (2*nn-1)/2)\n",
    "            coeff += (2*n-1)*(2*nn-1)/8 # sarebbe (2*n-1)/2 * (2*nn-1)/2 * 1/2 perchè sto contando due volte\n",
    "            if n!=nn :\n",
    "                if i<j :\n",
    "                    new_state = flip(state,i,j)\n",
    "                    #print(\"H_B\", new_state)\n",
    "                    result.append([1.0,new_state])\n",
    "    result.append([coeff, state])\n",
    "    return result    "
   ]
  },
  {
   "cell_type": "code",
   "execution_count": 365,
   "id": "11defc63-5dbc-4971-ac7b-12fe0e66b1f1",
   "metadata": {},
   "outputs": [
    {
     "name": "stdout",
     "output_type": "stream",
     "text": [
      "H| 0 > = [[0.5, 0]]\n",
      "H| 1 > = [[1.0, 8], [0.0, 1]]\n",
      "H| 2 > = [[1.0, 4], [0.0, 2]]\n",
      "H| 3 > = [[1.0, 10], [1.0, 5], [-0.5, 3]]\n",
      "H| 4 > = [[1.0, 2], [0.0, 4]]\n",
      "H| 5 > = [[1.0, 12], [1.0, 3], [-0.5, 5]]\n",
      "H| 6 > = [[0.5, 6]]\n",
      "H| 7 > = [[1.0, 14], [0.0, 7]]\n",
      "H| 8 > = [[1.0, 1], [0.0, 8]]\n",
      "H| 9 > = [[0.5, 9]]\n",
      "H| 10 > = [[1.0, 3], [1.0, 12], [-0.5, 10]]\n",
      "H| 11 > = [[1.0, 13], [0.0, 11]]\n",
      "H| 12 > = [[1.0, 5], [1.0, 10], [-0.5, 12]]\n",
      "H| 13 > = [[1.0, 11], [0.0, 13]]\n",
      "H| 14 > = [[1.0, 7], [0.0, 14]]\n",
      "H| 15 > = [[0.5, 15]]\n"
     ]
    }
   ],
   "source": [
    "#H|n> next neihgbors\n",
    "for i in range(dim*dim):\n",
    "    state = basis_label[i]\n",
    "    H=Hamiltonian(state)\n",
    "    print(\"H|\",state,\"> =\",H)"
   ]
  },
  {
   "cell_type": "code",
   "execution_count": 366,
   "id": "a875ec71-ab4a-4278-a810-70cbf64b410a",
   "metadata": {},
   "outputs": [
    {
     "name": "stdout",
     "output_type": "stream",
     "text": [
      "[0.5, 0.0, 0.0, 0.0, 0.0, 0.0, 0.0, 0.0, 0.0, 0.0, 0.0, 0.0, 0.0, 0.0, 0.0, 0.0]\n",
      "[0.0, 0.0, 0.0, 0.0, 0.0, 0.0, 0.0, 0.0, 1.0, 0.0, 0.0, 0.0, 0.0, 0.0, 0.0, 0.0]\n",
      "[0.0, 0.0, 0.0, 0.0, 1.0, 0.0, 0.0, 0.0, 0.0, 0.0, 0.0, 0.0, 0.0, 0.0, 0.0, 0.0]\n",
      "[0.0, 0.0, 0.0, -0.5, 0.0, 1.0, 0.0, 0.0, 0.0, 0.0, 1.0, 0.0, 0.0, 0.0, 0.0, 0.0]\n",
      "[0.0, 0.0, 1.0, 0.0, 0.0, 0.0, 0.0, 0.0, 0.0, 0.0, 0.0, 0.0, 0.0, 0.0, 0.0, 0.0]\n",
      "[0.0, 0.0, 0.0, 1.0, 0.0, -0.5, 0.0, 0.0, 0.0, 0.0, 0.0, 0.0, 1.0, 0.0, 0.0, 0.0]\n",
      "[0.0, 0.0, 0.0, 0.0, 0.0, 0.0, 0.5, 0.0, 0.0, 0.0, 0.0, 0.0, 0.0, 0.0, 0.0, 0.0]\n",
      "[0.0, 0.0, 0.0, 0.0, 0.0, 0.0, 0.0, 0.0, 0.0, 0.0, 0.0, 0.0, 0.0, 0.0, 1.0, 0.0]\n",
      "[0.0, 1.0, 0.0, 0.0, 0.0, 0.0, 0.0, 0.0, 0.0, 0.0, 0.0, 0.0, 0.0, 0.0, 0.0, 0.0]\n",
      "[0.0, 0.0, 0.0, 0.0, 0.0, 0.0, 0.0, 0.0, 0.0, 0.5, 0.0, 0.0, 0.0, 0.0, 0.0, 0.0]\n",
      "[0.0, 0.0, 0.0, 1.0, 0.0, 0.0, 0.0, 0.0, 0.0, 0.0, -0.5, 0.0, 1.0, 0.0, 0.0, 0.0]\n",
      "[0.0, 0.0, 0.0, 0.0, 0.0, 0.0, 0.0, 0.0, 0.0, 0.0, 0.0, 0.0, 0.0, 1.0, 0.0, 0.0]\n",
      "[0.0, 0.0, 0.0, 0.0, 0.0, 1.0, 0.0, 0.0, 0.0, 0.0, 1.0, 0.0, -0.5, 0.0, 0.0, 0.0]\n",
      "[0.0, 0.0, 0.0, 0.0, 0.0, 0.0, 0.0, 0.0, 0.0, 0.0, 0.0, 1.0, 0.0, 0.0, 0.0, 0.0]\n",
      "[0.0, 0.0, 0.0, 0.0, 0.0, 0.0, 0.0, 1.0, 0.0, 0.0, 0.0, 0.0, 0.0, 0.0, 0.0, 0.0]\n",
      "[0.0, 0.0, 0.0, 0.0, 0.0, 0.0, 0.0, 0.0, 0.0, 0.0, 0.0, 0.0, 0.0, 0.0, 0.0, 0.5]\n"
     ]
    }
   ],
   "source": [
    "matrix = []\n",
    "for i in range(dim*dim):\n",
    "    row = []\n",
    "    state = basis_label[i]\n",
    "    H_state = Hamiltonian(state)\n",
    "    already_filled = [k[1] for k in H_state]\n",
    "    index = {v: i for i, v in enumerate(already_filled)}\n",
    "    for j in range(dim*dim):\n",
    "        if j in already_filled:\n",
    "            row.append(H_state[index[j]][0])   \n",
    "        else:\n",
    "            row.append(0.0)\n",
    "    #print(column)\n",
    "    matrix.append(row) \n",
    "for i in range(dim*dim):\n",
    "    print(matrix[i])    "
   ]
  },
  {
   "cell_type": "code",
   "execution_count": null,
   "id": "4bdef3aa-4e72-4284-817c-5a9e3bfa5aa8",
   "metadata": {},
   "outputs": [],
   "source": []
  }
 ],
 "metadata": {
  "kernelspec": {
   "display_name": "Python 3 (ipykernel)",
   "language": "python",
   "name": "python3"
  },
  "language_info": {
   "codemirror_mode": {
    "name": "ipython",
    "version": 3
   },
   "file_extension": ".py",
   "mimetype": "text/x-python",
   "name": "python",
   "nbconvert_exporter": "python",
   "pygments_lexer": "ipython3",
   "version": "3.10.12"
  }
 },
 "nbformat": 4,
 "nbformat_minor": 5
}
